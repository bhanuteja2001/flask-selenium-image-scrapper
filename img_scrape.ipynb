{
 "cells": [
  {
   "cell_type": "code",
   "execution_count": 2,
   "metadata": {},
   "outputs": [],
   "source": [
    "import os\n",
    "import time\n",
    "import requests\n",
    "from selenium import webdriver"
   ]
  },
  {
   "cell_type": "code",
   "execution_count": null,
   "metadata": {},
   "outputs": [],
   "source": []
  },
  {
   "cell_type": "code",
   "execution_count": 2,
   "metadata": {},
   "outputs": [],
   "source": [
    "# How to execute this code\n",
    "# Step 1 : pip install selenium. pillow, requests\n",
    "# Step 2 : make sure you have chrome installed on your machine\n",
    "# Step 3 : Check your chrome version ( go to three dot then help then about google chrome )\n",
    "# Step 4 : Download the same chrome driver from here  \" https://chromedriver.storage.googleapis.com/index.html \"\n",
    "# Step 5 : put it inside the same folder of this code"
   ]
  },
  {
   "cell_type": "code",
   "execution_count": 3,
   "metadata": {},
   "outputs": [],
   "source": [
    "def fetch_image_urls(query: str, max_links_to_fetch: int, wd: webdriver, sleep_between_interactions: int = 1):\n",
    "    def scroll_to_end(wd):\n",
    "        wd.execute_script(\"window.scrollTo(0, document.body.scrollHeight);\")\n",
    "        time.sleep(sleep_between_interactions)\n",
    "\n",
    "        # build the google query\n",
    "\n",
    "    search_url = \"https://www.google.com/search?safe=off&site=&tbm=isch&source=hp&q={q}&oq={q}&gs_l=img\"\n",
    "\n",
    "    # load the page\n",
    "    wd.get(search_url.format(q=query))\n",
    "\n",
    "    image_urls = set()\n",
    "    image_count = 0\n",
    "    results_start = 0\n",
    "    while image_count < max_links_to_fetch:\n",
    "        scroll_to_end(wd)\n",
    "\n",
    "        # get all image thumbnail results\n",
    "        thumbnail_results = wd.find_elements_by_css_selector(\"img.Q4LuWd\")\n",
    "        number_results = len(thumbnail_results)\n",
    "\n",
    "        print(f\"Found: {number_results} search results. Extracting links from {results_start}:{number_results}\")\n",
    "\n",
    "        for img in thumbnail_results[results_start:number_results]:\n",
    "            # try to click every thumbnail such that we can get the real image behind it\n",
    "            try:\n",
    "                img.click()\n",
    "                time.sleep(sleep_between_interactions)\n",
    "            except Exception:\n",
    "                continue\n",
    "\n",
    "            # extract image urls\n",
    "            actual_images = wd.find_elements_by_css_selector('img.n3VNCb')\n",
    "            for actual_image in actual_images:\n",
    "                if actual_image.get_attribute('src') and 'http' in actual_image.get_attribute('src'):\n",
    "                    image_urls.add(actual_image.get_attribute('src'))\n",
    "\n",
    "            image_count = len(image_urls)\n",
    "\n",
    "            if len(image_urls) >= max_links_to_fetch:\n",
    "                print(f\"Found: {len(image_urls)} image links, done!\")\n",
    "                break\n",
    "        else:\n",
    "            print(\"Found:\", len(image_urls), \"image links, looking for more ...\")\n",
    "            time.sleep(30)\n",
    "            return\n",
    "            load_more_button = wd.find_element_by_css_selector(\".mye4qd\")\n",
    "            if load_more_button:\n",
    "                wd.execute_script(\"document.querySelector('.mye4qd').click();\")\n",
    "\n",
    "        # move the result startpoint further down\n",
    "        results_start = len(thumbnail_results)\n",
    "\n",
    "    return image_urls"
   ]
  },
  {
   "cell_type": "code",
   "execution_count": 4,
   "metadata": {},
   "outputs": [],
   "source": [
    "def persist_image(folder_path:str,url:str, counter):\n",
    "    try:\n",
    "        image_content = requests.get(url).content\n",
    "\n",
    "    except Exception as e:\n",
    "        print(f\"ERROR - Could not download {url} - {e}\")\n",
    "\n",
    "    try:\n",
    "        f = open(os.path.join(folder_path, 'jpg' + \"_\" + str(counter) + \".jpg\"), 'wb')\n",
    "        f.write(image_content)\n",
    "        f.close()\n",
    "        print(f\"SUCCESS - saved {url} - as {folder_path}\")\n",
    "    except Exception as e:\n",
    "        print(f\"ERROR - Could not save {url} - {e}\")"
   ]
  },
  {
   "cell_type": "code",
   "execution_count": 5,
   "metadata": {},
   "outputs": [],
   "source": [
    "def search_and_download(search_term: str, driver_path: str, target_path='./images', number_images=10):\n",
    "    target_folder = os.path.join(target_path, '_'.join(search_term.lower().split(' '))) # make the folder name inside images with the search string\n",
    "\n",
    "    if not os.path.exists(target_folder):\n",
    "        os.makedirs(target_folder) # make directory using the target path if it doesn't exist already\n",
    "\n",
    "    with webdriver.Chrome(executable_path=driver_path) as wd:\n",
    "        res = fetch_image_urls(search_term, number_images, wd=wd, sleep_between_interactions=0.5)\n",
    "\n",
    "    counter = 0\n",
    "    for elem in res:\n",
    "        persist_image(target_folder, elem, counter)\n",
    "        counter += 1"
   ]
  },
  {
   "cell_type": "code",
   "execution_count": 6,
   "metadata": {},
   "outputs": [
    {
     "name": "stdout",
     "output_type": "stream",
     "text": [
      "Found: 100 search results. Extracting links from 0:100\n",
      "Found: 10 image links, done!\n",
      "SUCCESS - saved https://m.economictimes.com/thumb/msid-72081091,width-1200,height-900,resizemode-4,imgsize-865547/alphonso-mangoes-which-the-city-obsesses-about-every-summer-were-now-being-sold-well-after-their-monsoon-cut-off-date.jpg - as ./images\\mango\n",
      "SUCCESS - saved https://images.indianexpress.com/2019/04/mangoes-pune.jpg - as ./images\\mango\n",
      "SUCCESS - saved https://www.jessicagavin.com/wp-content/uploads/2018/04/how-to-cut-a-mango-sq-1200-500x500.jpg - as ./images\\mango\n",
      "SUCCESS - saved https://images-na.ssl-images-amazon.com/images/I/61cQC8chkuL._SX466_.jpg - as ./images\\mango\n",
      "SUCCESS - saved https://upload.wikimedia.org/wikipedia/commons/thumb/e/ee/Mango_and_cross_section_edit.jpg/1200px-Mango_and_cross_section_edit.jpg - as ./images\\mango\n",
      "SUCCESS - saved https://images.outlookindia.com/public/uploads/articles/2019/6/1/mango.jpg - as ./images\\mango\n",
      "SUCCESS - saved https://m.hindustantimes.com/rf/image_size_960x540/HT/p2/2018/06/26/Pictures/three-mangos-on-a-white-background_c0f9cd16-7908-11e8-b46a-be68571826e9.jpg - as ./images\\mango\n",
      "SUCCESS - saved https://i0.wp.com/cdn-prod.medicalnewstoday.com/content/images/articles/275/275921/sliced-ripe-mangoes-in-rustic-kitchen.jpg?w=1155&h=1444 - as ./images\\mango\n",
      "SUCCESS - saved https://images-na.ssl-images-amazon.com/images/I/31KSJIUe16L._SX450_.jpg - as ./images\\mango\n",
      "SUCCESS - saved https://5.imimg.com/data5/YD/PM/MY-40752733/fresh-mango-500x500.jpg - as ./images\\mango\n"
     ]
    }
   ],
   "source": [
    "DRIVER_PATH = './chromedriver'\n",
    "search_term = 'mango'\n",
    "# num of images you can pass it from here  by default it's 10 if you are not passing\n",
    "# number_images = 10\n",
    "search_and_download(search_term=search_term, driver_path=DRIVER_PATH) # method to download images"
   ]
  },
  {
   "cell_type": "code",
   "execution_count": null,
   "metadata": {},
   "outputs": [],
   "source": []
  }
 ],
 "metadata": {
  "kernelspec": {
   "display_name": "Python 3",
   "language": "python",
   "name": "python3"
  },
  "language_info": {
   "codemirror_mode": {
    "name": "ipython",
    "version": 3
   },
   "file_extension": ".py",
   "mimetype": "text/x-python",
   "name": "python",
   "nbconvert_exporter": "python",
   "pygments_lexer": "ipython3",
   "version": "3.8.3"
  }
 },
 "nbformat": 4,
 "nbformat_minor": 2
}
